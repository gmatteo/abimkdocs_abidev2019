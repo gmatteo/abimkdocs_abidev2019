{
 "cells": [
  {
   "cell_type": "code",
   "execution_count": 1,
   "metadata": {
    "slideshow": {
     "slide_type": "skip"
    }
   },
   "outputs": [],
   "source": [
    "import os\n",
    "\n",
    "# Ignore numpy warnings\n",
    "import warnings\n",
    "warnings.filterwarnings('ignore')\n",
    "\n",
    "%matplotlib inline\n",
    "#%matplotlib notebook\n",
    "\n",
    "# Use seaborn settings.\n",
    "import seaborn as sns\n",
    "sns.set(\n",
    "        #context=\"paper\",\n",
    "        context=\"talk\",\n",
    "        #context=\"poster\",\n",
    "        style='darkgrid',\n",
    "        #style=\"dark\",\n",
    "        #palette='deep',\n",
    "        font='sans-serif', \n",
    "        #font_scale=1.0, \n",
    "        #color_codes=False, \n",
    "        rc={'figure.figsize': (12, 8.0)}, # width and height in inches.\n",
    ")\n",
    "\n",
    "import IPython\n",
    "\n",
    "def _embed(src, width=\"800\", height=\"400\"):\n",
    "    return IPython.display.IFrame(src=src, width=str(width), height=str(height))\n",
    "\n",
    "from IPython.core.magic import (register_line_magic, register_cell_magic,\n",
    "                                register_line_cell_magic)\n",
    "\n",
    "@register_line_magic\n",
    "def embed(line):\n",
    "    \"my line magic\"\n",
    "    #return line\n",
    "    return _embed(line)\n",
    "\n",
    "\n",
    "# We delete these to avoid name conflicts for automagic to work\n",
    "del embed\n",
    "#del lcmagic\n",
    "\n",
    "# Theme\n",
    "# import jtplot module in notebook\n",
    "#from jupyterthemes import jtplot\n",
    "\n",
    "# choose which theme to inherit plotting style from\n",
    "# onedork | grade3 | oceans16 | chesterish | monokai | solarizedl | solarizedd\n",
    "#jtplot.style(theme='monokai')\n",
    "\n",
    "# set \"context\" (paper, notebook, talk, poster)\n",
    "# scale font-size of ticklabels, legend, etc.\n",
    "# remove spines from x and y axes and make grid dashed\n",
    "#jtplot.style(context='talk', fscale=1.4, spines=False, gridlines='--')\n",
    "\n",
    "# turn on X- and Y-axis tick marks (default=False)\n",
    "# turn off the axis grid lines (default=True)\n",
    "# and set the default figure size\n",
    "#jtplot.style(ticks=True, grid=False, figsize=(6, 4.5))\n",
    "\n",
    "# reset default matplotlib rcParams\n",
    "#jtplot.reset()\n",
    "\n",
    "from abipy import abilab\n",
    "#import abipy.data as abidata\n",
    "\n",
    "#si_pseudo = os.path.join(abidata.pseudo_dir, \"14si.pspnc\")"
   ]
  },
  {
   "cell_type": "markdown",
   "metadata": {
    "slideshow": {
     "slide_type": "skip"
    }
   },
   "source": [
    "<style type=\"text/css\">\n",
    ".centerImage\n",
    "{\n",
    " text-align:center;\n",
    " display:block;\n",
    "}\n",
    "</style>"
   ]
  },
  {
   "cell_type": "markdown",
   "metadata": {
    "slideshow": {
     "slide_type": "slide"
    }
   },
   "source": [
    "# Abimkdocs: the new infrastructure for the ABINIT documentation\n",
    "\n",
    "### M. Giantomassi\n",
    "\n",
    "9th international ABINIT developer workshop\n",
    "20-22nd May 2019 - Louvain-la-Neuve, Belgium\n",
    "\n",
    "<!-- link rel=\"stylesheet\" href=\"reveal.js/css/theme/sky.css\" id=\"theme\" -->\n",
    "\n",
    "<img src=\"./assets/intro_logos.png\" width=\"85%\" heigh=\"15%\" align=\"center\">\n",
    "\n",
    "<hr> \n",
    "\n",
    "* These slides have been generated using [jupyter](https://jupyter.org), [nbconvert](https://github.com/jupyter/nbconvert) and [revealjs](https://revealjs.com/)\n",
    "\n",
    "* The notebook can be downloaded from this [github repo](https://github.com/gmatteo/abipy_slides_aps_boston_2019)\n",
    "\n",
    "<!--\n",
    "* To install and configure the software, follow these [installation instructions](https://github.com/abinit/abipy#getting-abipy)\n",
    "-->"
   ]
  },
  {
   "cell_type": "markdown",
   "metadata": {
    "slideshow": {
     "slide_type": "slide"
    }
   },
   "source": [
    "## Why a new infrastructure for docs?\n",
    "\n",
    "### Problems\n",
    "\n",
    "* Documentation is very important but find me someone who loves writing docs (especially in HTML) and I'll pay 🍺🍺🍺 \n",
    "* Websites use lot of HTML5/Javascript/CSS but we are more familiar with *plain text files* and $\\LaTeX$\n",
    "* Users expect an interactive and responsive website\n",
    "* Documentation must be kept in synch with new developments\n",
    "\n",
    "### Solution\n",
    "\n",
    "* Markdown for documentation files \n",
    "* Python files with the declaration of input variables \n",
    "* Use well-established python frameworks to generate static website from MD files\n",
    "* Extend the framework with plugins integrated with our code for the TestSuite/Input Variables\n",
    "* Connect the different parts with \"integration tests\" written in python"
   ]
  },
  {
   "cell_type": "markdown",
   "metadata": {
    "slideshow": {
     "slide_type": "slide"
    }
   },
   "source": [
    "## Software stack (yes, it's 2019 and we use libraries)\n",
    "\n",
    "* [Python Markdown](https://github.com/Python-Markdown/markdown) to parse the Markdown documentation\n",
    "* pygments\n",
    "* [pybtex](https://pybtex.org/) \n",
    "* [MathJax](https://www.mathjax.org/) for equations in $\\LaTeX$\n",
    "* pymdown-extensions to extend Markdown syntax\n",
    "* [Mkdocs-Material](http://squidfunk.github.io/mkdocs-material/), a theme built using Google's [Material Design](https://www.google.com/design/spec/material-design) guidelines\n",
    "* [fontawesome icons](https://fontawesome.com/)\n",
    "* [Bootstrap](http://getbootstrap.com/) a popular HTML, CSS, and Javascript framework \n",
    "* [jinja template engine](http://jinja.pocoo.org/): navigation bars, header and footer are generated *automatically* \n",
    "* [MkDocs](http://www.mkdocs.org/): static site generator geared towards project documentation\n",
    "\n",
    "\n",
    "1. Python code must be installed manually\n",
    "2. JS/CSS libraries are downloaded by the browser.\n",
    "3. Well, we are building a website so I assume you have an internet connection 🤦‍♂️ 🤦‍♀️\n",
    "\n",
    "<!--\n",
    "The website is automatically generated with [MkDocs](http://www.mkdocs.org/)\n",
    "a static site generator geared towards project documentation.\n",
    "MkDocs employs [Python-Markdown](https://pypi.python.org/pypi/Markdown) to parse the Markdown documentation\n",
    "and use a single [YAML](http://en.wikipedia.org/wiki/YAML) configuration file (`mkdocs.yml`) \n",
    "defining the organization of the pages on the website.\n",
    "Navigation bars, header and footer are generated *automatically* by the framework\n",
    "using the [jinja template engine](http://jinja.pocoo.org/).\n",
    "Previous versions of the documentation can be consulted using the drop down menu \n",
    "at the top-right corner. (==not yet operational==)\n",
    "\n",
    "MkDocs includes a couple built-in themes as well as various third party themes,\n",
    "all of which can easily be customized with extra CSS or JavaScript or overridden from the theme directory. \n",
    "The Abinit website uses [Mkdocs-Material](http://squidfunk.github.io/mkdocs-material/), a theme\n",
    "built using Google's [Material Design](https://www.google.com/design/spec/material-design) guidelines.\n",
    "We also use [fontawesome icons](https://fontawesome.com/) and\n",
    "[Bootstrap](http://getbootstrap.com/) a popular HTML, CSS, and Javascript framework \n",
    "for developing responsive, mobile first projects on the web \n",
    "(shrink the browser window to see how the menu and the navigation bars react).\n",
    "\n",
    "Note that the majority of the Abinit developers do not need to know how to use these technologies\n",
    "since they will mainly interact with markdown files (plain text files that can be easily modified in the editor)\n",
    "while Mkdocs will handle the HTML/CSS/Javascript part.\n",
    "\n",
    "In addition to the basic markdown syntax, the Abinit documentation supports extensions and shortcuts\n",
    "to ease the writing of hyperlinks and the inclusion of bibliographic citations.\n",
    "A detailed description of *our markdown dialect* is given in [our markdown page](markdown).\n",
    "Also [MathJax](https://www.mathjax.org/) for equations in LaTeX is activated, \n",
    "and the (few) specificities of its usage in the Abinit docs are explained [in this section](markdown.md#mathjax).\n",
    "\n",
    "As a net result, Abinit developers can write nice-looking documentation and release notes without having to use \n",
    "HTML explicitly while working in an environment that is well-integrated with the Abinit ecosystem \n",
    "(the yaml database of input variables, the test suite, bibtex citations).\n",
    "Adding new content is straightforward: write a new page in Markdown, add the new entry to `mkdocs.yml` \n",
    "and finally regenerate the website with MkDocs.\n",
    "\n",
    "Dependencies are listed in *~abinit/requirements.txt*\n",
    "\n",
    "Use:\n",
    "\n",
    "```sh\n",
    "    pip install -r requirements.txt --user\n",
    "```\n",
    "\n",
    "to install the python packages in user mode.\n",
    "-->"
   ]
  },
  {
   "cell_type": "markdown",
   "metadata": {
    "slideshow": {
     "slide_type": "slide"
    }
   },
   "source": [
    "<center><img src=\"./assets/mkdocs.jpg\" width=\"40%\" align=\"center\"></center>\n",
    "\n",
    "   * Python-based static site generator that combines:\n",
    "       * Markdown content \n",
    "       * Jinja2 templates \n",
    "     to produce websites\n",
    "   * Project hosted on GitHub. BSD2 license, **7617** stars, **1137** forks\n",
    "   * The built-in dev-server allows you to preview thr HTML as you're writing it\n",
    "   * Plugin infrastructure to extend/customize logic\n",
    "   * Easy configuration via YAML file:\n",
    "   \n",
    "<center><img src=\"./assets/mkdocs_files.png\" width=\"50%\" align=\"center\"><center>\n",
    "<!-- img src=\"./assets/plugin_diagram.png\" width=\"35%\" align=\"right\" -->"
   ]
  },
  {
   "cell_type": "markdown",
   "metadata": {
    "slideshow": {
     "slide_type": "subslide"
    }
   },
   "source": [
    "<center><img src=\"./assets/static_website_flow.png\" width=\"50%\" align=\"center\"></center>\n",
    "\n",
    "* Contents ⟾ Markdown files  \n",
    "* Template ⟾ Jinja + Mkdocs-Material theme + lot of HTML techology\n",
    "* Compile ⟾ Python Mkdocs + our customized logic\n",
    "\n",
    "<!-- img src=\"./assets/dynamic_vs_static.jpg\" width=\"35%\" align=\"center\" -->\n",
    "<center><img src=\"./assets/plugin_diagram.png\" width=\"45%\" align=\"center\"></center>"
   ]
  },
  {
   "cell_type": "markdown",
   "metadata": {
    "slideshow": {
     "slide_type": "subslide"
    }
   },
   "source": [
    "<center><img src=\"./assets/dynamic_vs_static.jpg\" width=\"70%\" align=\"center\"></center>\n",
    "\n",
    "* *Static website* means that the server serves pre-built HTML pages\n",
    ":\n",
    "    * easier to implement than dynamic approach\n",
    "    * safer (no code running on the server)\n",
    "    * less flexible than dynamic but we don't a database for the Abinit doc \n",
    "    \n",
    "* *Static website* does not mean that we cannot have interactivity or responsive design for tablets/smartphones:\n",
    "\n",
    "    * Interactivity provided by JS/CSS and python plugins\n",
    "    * Responsive design implemented by the Mkdocs theme\n",
    "    \n",
    "Good news: you don't need to master all this stuff, you mainly interact with MD and python plugins."
   ]
  },
  {
   "cell_type": "markdown",
   "metadata": {
    "slideshow": {
     "slide_type": "slide"
    }
   },
   "source": [
    "### Installation\n",
    "<p></p>\n",
    "\n",
    "```sh\n",
    "pip install -r requirements.txt [--user]\n",
    "```\n",
    "\n",
    "### How to build the website\n",
    "<p></p>\n",
    "\n",
    "```shell\n",
    "cd ~abinit && ./mksite.py serve --dirtyreload\n",
    "\n",
    "Regenerating database...\n",
    "Saving database to /Users/gmatteo/git_repos/abidocs/doc/tests/test_suite.cpkl\n",
    "Initial website generation completed in 9.17 [s]\n",
    "Generating markdown files with input variables of code: `abinit`...\n",
    "...\n",
    "...\n",
    "INFO    -  Building documentation...\n",
    "INFO    -  Cleaning site directory\n",
    "[I 170826 03:37:05 server:283] Serving on http://127.0.0.1:8000\n",
    "[I 170826 03:37:05 handlers:60] Start watching changes\n",
    "[I 170826 03:37:05 handlers:62] Start detecting changes\n",
    "```\n",
    "\n",
    "* Open http://127.0.0.1:8000 in the browser and start editing MD files\n",
    "* With `--dirtyreload`, Mkdocs automaticaly rebuild changed files \n",
    "\n",
    "<div class=\"alert alert-danger\" role=\"alert\">\n",
    "Live reloading is not supported in variables/topics. You need to kill the webserver and restart it.\n",
    "</div>"
   ]
  },
  {
   "cell_type": "markdown",
   "metadata": {
    "slideshow": {
     "slide_type": "slide"
    }
   },
   "source": [
    "#### How to add a new tutorial:\n",
    "\n",
    "* Create a new Markdown file in *doc/tutorial* \n",
    "* Register the new page in `mkdocs.yml` \n",
    "* Build with `./mksite.py serve --dirtyreload`\n",
    "\n",
    "#### Excerpt of mkdocs.yml\n",
    "<p></p>\n",
    "\n",
    "```yaml\n",
    "pages:\n",
    "- Tutorial:\n",
    "    - Overview: tutorial/index.md\n",
    "    - Base Tutorials: \n",
    "        - Base1: tutorial/base1.md\n",
    "        - Base2: tutorial/base2.md\n",
    "    - PAW:\n",
    "        - PAW1: tutorial/paw1.md\n",
    "        - PAW2: tutorial/paw2.md\n",
    "```\n",
    "\n",
    "\n",
    "#### MD files start with a Yaml section providing metavariables used by the framework:\n",
    "\n",
    "```sh\n",
    "$ head ~abinit/doc/developers/markdown.md\n",
    "```\n",
    "\n",
    "```md\n",
    "---\n",
    "authors: MG, XG\n",
    "plotly: true\n",
    "---\n",
    "```"
   ]
  },
  {
   "cell_type": "markdown",
   "metadata": {
    "slideshow": {
     "slide_type": "subslide"
    }
   },
   "source": [
    "### HTML page:\n",
    "\n",
    "<img src=\"./assets/tutorial_yaml_pages.png\" width=\"95%\" align=\"center\">"
   ]
  },
  {
   "cell_type": "markdown",
   "metadata": {
    "slideshow": {
     "slide_type": "slide"
    }
   },
   "source": [
    "### Markdown example:\n",
    "\n",
    "```md\n",
    "---\n",
    "authors: MG, MS\n",
    "plotly: True\n",
    "---\n",
    "\n",
    "## Green's function and self-energy\n",
    "  \n",
    "The time-ordered Green's function $G(12)$ defines\n",
    "the probability amplitude for the propagation of an added or removed electron in a many-body system. \n",
    "\n",
    "\\begin{equation} \n",
    "  G(1,2) = -i\\left\\langle \\Theta_0^N \\left| \\hat{T} \\left[\n",
    "  \\hat{\\psi}(1)\\hat{\\psi}^{\\dagger}(2) \\right] \\right| \\Theta_0^N \\right\\rangle,\n",
    "\\end{equation} \n",
    "\n",
    "\n",
    "```\n",
    "\n",
    "### HTML result:\n",
    "\n",
    "\n",
    "## Green's function and self-energy\n",
    "  \n",
    "The time-ordered Green's function $G(12)$ defines\n",
    "the probability amplitude for the propagation of an added or removed electron in a many-body system. \n",
    "\n",
    "\\begin{equation} \n",
    "G(1,2) = -i\\left\\langle \\Theta_0^N \\left| \\hat{T} \\left[\n",
    "\\hat{\\psi}(1)\\hat{\\psi}^{\\dagger}(2) \\right] \\right| \\Theta_0^N \\right\\rangle,\n",
    "\\end{equation} "
   ]
  },
  {
   "cell_type": "markdown",
   "metadata": {
    "slideshow": {
     "slide_type": "skip"
    }
   },
   "source": [
    "<img src=\"./assets/mkdocs-features.png\" width=\"35%\" align=\"center\">\n",
    "<img src=\"./assets/mkdocs_materials_mobile.png\" width=\"35%\" align=\"center\">\n",
    "<img src=\"./assets/mkdocs_materials.jpg\" width=\"35%\" align=\"center\">\n",
    "<img src=\"./assets/plugin_diagram.png\" width=\"25%\" align=\"center\">"
   ]
  },
  {
   "cell_type": "markdown",
   "metadata": {
    "slideshow": {
     "slide_type": "slide"
    }
   },
   "source": [
    "## Jinja2 Template \n",
    "\n",
    "Excerpt of *~abinit_theme/main.html*\n",
    "<p></p>\n",
    "\n",
    "```django\n",
    "{% extends \"base.html\" %}\n",
    "\n",
    "{% block libs %}\n",
    "    {{ super() }} <!-- Reuse libs defined in the super class -->\n",
    "\n",
    "    <!-- Add MathJax support -->\n",
    "    <script type=\"text/javascript\" async \n",
    "        src=\"https://cdnjs.cloudflare.com/ajax/libs/mathjax/2.7.1/MathJax.js?config=TeX-AMS-MML_SVG\">\n",
    "    </script> \n",
    "\n",
    "    <!-- Add plotly support if \"plotly\" in page metavariables -->\n",
    "    {% if page.meta and page.meta.plotly %} \n",
    "        <script type=\"text/javascript\" src=\"https://cdn.plot.ly/plotly-latest.min.js\"></script> \n",
    "    {% endif %}\n",
    "{% endblock %}\n",
    "\n",
    "{% block content %}\n",
    "    {{ super() }}  <!-- HTML content generated from MD file goes here -->\n",
    " \n",
    "    <!-- Add dropdown button with toolbar and return to Top button -->\n",
    "    <div class=\"md-container\"> \"LOT OF HTML STUFF\" </div>\n",
    "{% endblock %}\n",
    "\n",
    "{% block footer %}\n",
    "    <!-- Add tabs to footer -->\n",
    "    {% if config.theme.feature.tabs %}\n",
    "        {% include \"partials/tabs.html\" %}\n",
    "    {% endif %}\n",
    "    {{ super() }}\n",
    "{% endblock %}\n",
    "```"
   ]
  },
  {
   "cell_type": "markdown",
   "metadata": {
    "slideshow": {
     "slide_type": "slide"
    }
   },
   "source": [
    "## Dokuwiki links \n",
    "\n",
    "<!-- \n",
    "<p><img src=\"./assets/dokuwiki_link.jpg\" width=\"3%\"></p> \n",
    "* Fortunately we have *variables_abinit.py*, *abiref.bib* and *Test_Suite* ⇒ python preprocessor and wikilink syntax\n",
    "-->\n",
    "\n",
    "* Creating links to external resources is easy: `[See here](http://bfy.tw/P9e)`\n",
    "\n",
    "* Adding links to internal resources (*vars*, *bibtex refs*, *input files*) is boring and error-prone\n",
    "\n",
    "#### Solution\n",
    "\n",
    "* Extend markdown parser to support `[[token]]` regex\n",
    "* The extension will interpret the `token` to create the link\n",
    "* Syntax: `[[namespace:name#fragment|text]]`\n",
    "\n",
    "    * `namespace` in \"cite\", \"test\", \"lesson\", \"tutorial\", \"src\", \"pdf\", \"gitsha\" ...\n",
    "    * `name` depends on namespace\n",
    "    * text is the name of the link\n",
    "    \n",
    "### It seems complicated but it's very flexible and syntax for common cases is really easy:\n",
    "\n",
    "<img src=\"./assets/wikilinks.png\" width=\"95%\" align=\"center\">\n",
    "\n",
    "### Full documentation available [here](https://docs.abinit.org/developers/markdown/#links)"
   ]
  },
  {
   "cell_type": "markdown",
   "metadata": {
    "slideshow": {
     "slide_type": "skip"
    }
   },
   "source": [
    "## Markdown and Abinit extensions\n",
    " \n",
    "Most of the documentation is written in [Markdown](https://en.wikipedia.org/wiki/Markdown)\n",
    "a lightweight markup language with plain text \n",
    "[formatting syntax](https://github.com/adam-p/markdown-here/wiki/Markdown-Cheatsheet).\n",
    "The documentation includes the User Guide, the Abinit tutorial, the topics, the release notes\n",
    "as well as the pages with the [input variables](../variables/) and the [bibliographic references](../theory/bibliography.md)\n",
    "that are generated *automatically* in python from the information reported in \n",
    "`~abinit/mkdocs/variables_abinit.py` (and similar files in the same directory for other main executables) and the bibtex \n",
    "entries given in the `~abinit/doc/abiref.bib` file."
   ]
  },
  {
   "cell_type": "markdown",
   "metadata": {
    "slideshow": {
     "slide_type": "slide"
    }
   },
   "source": [
    "## MathJax integration\n",
    "\n",
    "* $\\LaTeX$ formulas are interpreted automatically (at visualization time) thanks to the\n",
    "  [MathJax](http://docs.mathjax.org/en/latest/mathjax.html) processor\n",
    "  \n",
    "* Extension for Python-Markdown provided by\n",
    " [python-markdown-math](https://github.com/mitya57/python-markdown-math)\n",
    "\n",
    "* MathJax configuration defined in *~abinit/abinit_theme/main.html* Jinja template\n",
    "\n",
    "#### Latex equations can be used **everywhere** including:\n",
    "\n",
    "   * the description of the input variables (*text* entry)\n",
    "   * the description of the tests n the `TEST_INFO` section\n",
    "\n",
    "#### Conventions:\n",
    "\n",
    "* `$...$`  yields an *onlinecite* translation of the LaTeX formula.\n",
    "* `$$...$$` yields *display* mode, the LaTeX formula being rendered on one dedicated line (moreover, centered).\n",
    "* To have the equations numbered, use the display mode above, and (inside the markers) declare your equation\n",
    "  within the standard `\\begin{equation}...\\end{equation}` markers.\n",
    "* When a `$` sign is inside a `#!html <pre>...</pre>` HTML section, MathJax does not interpret it.\n",
    "* Use `\\$` to prevent a real \\$ to be interpreted."
   ]
  },
  {
   "cell_type": "markdown",
   "metadata": {
    "slideshow": {
     "slide_type": "slide"
    }
   },
   "source": [
    "##  MathJax configuration *~abinit/abinit_theme/main.html*\n",
    "<p></p>\n",
    "\n",
    "```html\n",
    "    <script type=\"text/javascript\" async \n",
    "        src=\"https://cdnjs.cloudflare.com/ajax/libs/mathjax/2.7.1/MathJax.js?config=TeX-AMS-MML_SVG\">\n",
    "    </script> \n",
    "    <!--\n",
    "    Configure MathJax to produce automatic equation numbers \n",
    "    See http://docs.mathjax.org/en/latest/tex.html\n",
    "    -->\n",
    "    <script type=\"text/x-mathjax-config\">\n",
    "      MathJax.Hub.Config({\n",
    "        TeX: {\n",
    "            equationNumbers: { autoNumber: \"AMS\" },\n",
    "            extensions: [\"AMSmath.js\"],\n",
    "            Macros: {\n",
    "                GG: \"{\\\\bf G}\",\n",
    "                kk: \"{\\\\bf k}\",\n",
    "                qq: \"{\\\\bf q}\",\n",
    "                kq: \"{\\\\kk + \\\\qq}\",\n",
    "                // PAW\n",
    "                tpsi: \"{\\\\tilde\\\\psi}\",\n",
    "                tphi: \"{\\\\tilde\\\\phi}\",\n",
    "                tprj: \"{\\\\tilde p}\"\n",
    "            }\n",
    "          }\n",
    "      });\n",
    "    </script>\n",
    "```"
   ]
  },
  {
   "cell_type": "markdown",
   "metadata": {
    "slideshow": {
     "slide_type": "slide"
    }
   },
   "source": [
    "## Permalinks\n",
    "\n",
    "> A permalink is a URL that is intended to remain unchanged for many years into \n",
    "  the future, yielding a hyperlink that is less susceptible to link rot (wikipedia)\n",
    "\n",
    "#### Permalinks are useful to create/share links to:\n",
    "    \n",
    "   * tutorials, sections in docs, input variables, input files, talks like this one❗\n",
    "    \n",
    "#### Permalinks are automaticaly generated from:\n",
    "\n",
    "   * tutorial filename and section name\n",
    "   * (varset, varname) if variable\n",
    "   * Markdown filepath and section name if doc\n",
    "   * Location of input file if test\n",
    "    \n",
    "#### Nothing is written in stone but try to avoid link rot as much as possible\n",
    "\n",
    "<div class=\"alert alert-danger\" role=\"alert\">\n",
    "  Lot of hrefs in the Abinit2019 paper will rot if you start to rename input files just \n",
    "for \"cosmetic reasons\"\n",
    "</div>"
   ]
  },
  {
   "cell_type": "markdown",
   "metadata": {
    "slideshow": {
     "slide_type": "slide"
    }
   },
   "source": [
    "## Topic Files\n",
    "\n",
    "* The topic files are written in Markdown and can be found in ~abinit/doc/topics.\n",
    "* Filename starts with an underscore e.g. `_AbiPy.md`.\n",
    "* These are **template files** containing the text and two variables:\n",
    "\n",
    "```django\n",
    "## Related Input Variables\n",
    "{{ related_variables }}\n",
    "\n",
    "## Selected Input Files\n",
    "{{ selected_input_files }}\n",
    "```\n",
    "\n",
    "that will be filled by `./mksite.py` by inspecting the database of variables and the tests of the test suite.\n",
    "\n",
    "A new Markdown file **without underscore** will be generated and included in `mkdocs.yml`\n",
    "\n",
    "<div class=\"alert alert-warning\" role=\"alert\">\n",
    "    Developers should to edit the version with the underscore and provide enough\n",
    "    information in the declaration of the variable and in the `TEST_INFO` section\n",
    "    so that mksite.py can fill the template.\n",
    "    Remember to restart mksite.py to see the changes.    \n",
    "</div>"
   ]
  },
  {
   "cell_type": "code",
   "execution_count": 2,
   "metadata": {
    "slideshow": {
     "slide_type": "slide"
    }
   },
   "outputs": [
    {
     "data": {
      "text/html": [
       "\n",
       "        <iframe\n",
       "            width=\"800\"\n",
       "            height=\"400\"\n",
       "            src=\"https://docs.abinit.org/developers/markdown/#abinit-extensions\"\n",
       "            frameborder=\"0\"\n",
       "            allowfullscreen\n",
       "        ></iframe>\n",
       "        "
      ],
      "text/plain": [
       "<IPython.lib.display.IFrame at 0x1a257dea20>"
      ]
     },
     "execution_count": 2,
     "metadata": {},
     "output_type": "execute_result"
    }
   ],
   "source": [
    "%embed https://docs.abinit.org/developers/markdown/#abinit-extensions"
   ]
  },
  {
   "cell_type": "markdown",
   "metadata": {
    "slideshow": {
     "slide_type": "slide"
    }
   },
   "source": [
    "## Gotchas"
   ]
  },
  {
   "cell_type": "markdown",
   "metadata": {
    "slideshow": {
     "slide_type": "fragment"
    }
   },
   "source": [
    "   1. Markdown preprocessor finds regex that triggers a callback (Abinit plugin)\n",
    "   2. Callback receive arguments from the preprocessor (dialog, filepath)\n",
    "   3. Callback uses args to build string with HTML/JS code and content and return it to the caller\n",
    "   4. Caller include string in HTML doc "
   ]
  },
  {
   "cell_type": "markdown",
   "metadata": {
    "slideshow": {
     "slide_type": "slide"
    }
   },
   "source": [
    "## Bibtex Citations\n",
    "\n",
    "[[cite:Amadon2008]]\n",
    "\n",
    "## How to add a bibliographic reference\n",
    "\n",
    "Bibliographic references must be in bibtex format and should provide enough information so that the python code\n",
    "can generate appropriate links in the website.\n",
    "The central bibliography database is presently located in `~abinit/doc/abiref.bib`.\n",
    "\n",
    "For published work with a DOI, we strongly recommend *avoiding* a *cut&paste* from your own bibtex file\n",
    "to the central bibliography database. \n",
    "Indeed, there are units tests to enforce the presence of particular entries in the bibtex document and\n",
    "your bibtex may not fulfill these requirements.\n",
    "\n",
    "Providing bibtex data from the publisher site is a better method.\n",
    "If you know the DOI of the article, it is also possible to use [BetterBib](https://github.com/nschloe/betterbib)\n",
    "to fetch data from [Crossref](http://www.crossref.org/) and produce the bibtex entry.\n",
    "BetterBib is available from the Python Package Index, so simply type:\n",
    "\n",
    "    pip install betterbib\n",
    "\n",
    "and then use `doi2bibtex` from the command line:\n",
    "\n",
    "```latex\n",
    "betterbib-doi2bibtex 10.1103/PhysRevLett.96.066402\n",
    "\n",
    "@article{bibtex,\n",
    "  author = {Amadon, B. and Biermann, S. and Georges, A. and Aryasetiawan, F.},\n",
    "  doi = {10.1103/physrevlett.96.066402},\n",
    "  issn = {0031-9007, 1079-7114},\n",
    "  journal = {Physical Review Letters},\n",
    "  month = feb,\n",
    "  number = {6},\n",
    "  publisher = {American Physical Society (APS)},\n",
    "  source = {Crossref},\n",
    "  title = {{The α−γ Transition} of Cerium Is Entropy Driven},\n",
    "  url = {http://dx.doi.org/10.1103/physrevlett.96.066402},\n",
    "  volume = {96},\n",
    "  year = {2006}\n",
    "}\n",
    "```\n",
    "\n",
    "Add the entry to the bibtex file and use the `FirstAuthorYear` convention for the key\n",
    "(make sure it's not a duplicated entry).\n",
    "Note that the bibtex ID must be of the form \"FirstauthornameYEAR\", e.g. \"Amadon2008\"\n",
    "(start with an uppercase letter, then lower case, then four-digit year).\n",
    "Possibly, a letter might be added in case of ambiguity: e.g. there exists also `Amadon2008a`\n",
    "Then, build the HTML pages using `./mksite.py serve`.\n",
    "\n",
    "Run the tests with:\n",
    "\n",
    "    pytest abimkdocs_tests/test_bibtex.py\n",
    "\n",
    "with pytest to validate your changes.\n",
    "\n",
    "In order to refer to a bibliography entry, use the [Wikilink syntax](markdown#wiki-links) with the \"cite\" namespace.\n"
   ]
  },
  {
   "cell_type": "code",
   "execution_count": 3,
   "metadata": {
    "slideshow": {
     "slide_type": "fragment"
    }
   },
   "outputs": [
    {
     "data": {
      "text/html": [
       "\n",
       "        <iframe\n",
       "            width=\"800\"\n",
       "            height=\"400\"\n",
       "            src=\"https://docs.abinit.org/theory/bibliography/#amadon2008\"\n",
       "            frameborder=\"0\"\n",
       "            allowfullscreen\n",
       "        ></iframe>\n",
       "        "
      ],
      "text/plain": [
       "<IPython.lib.display.IFrame at 0x1a210a7518>"
      ]
     },
     "execution_count": 3,
     "metadata": {},
     "output_type": "execute_result"
    }
   ],
   "source": [
    "%embed https://docs.abinit.org/theory/bibliography/#amadon2008"
   ]
  },
  {
   "cell_type": "markdown",
   "metadata": {
    "slideshow": {
     "slide_type": "slide"
    }
   },
   "source": [
    "## Input variables\n",
    "\n",
    "* Declared in python files \n",
    "* Grouped by code *~abinit/abimkdocs/variables_abinit.py*"
   ]
  },
  {
   "cell_type": "code",
   "execution_count": 4,
   "metadata": {
    "slideshow": {
     "slide_type": "skip"
    }
   },
   "outputs": [
    {
     "data": {
      "text/html": [
       "<h2>Default value:</h2>\n",
       "<p>[0, 0, 0, 0]</p>\n",
       "<h2>Description:</h2>\n",
       "<p>This variable activates the interpolation of the electronic eigenvalues. It\n",
       "can be used to interpolate KS eigenvalues at the end of the GS run or to\n",
       "interpolate GW energies in sigma calculations (<b>optdriver</b> = 4). The k-path\n",
       "can be specified with <b>kptbounds</b> and <b>nkpath</b>. einterp consists of 4\n",
       "entries. The first element specificies the interpolation method.</p>\n",
       "<ul>\n",
       "<li>0 --&gt; No interpolation (default)</li>\n",
       "<li>1 --&gt; Star-function interpolation (Shankland-Koelling-Wood Fourier interpolation scheme, see <b>cite:Pickett1988</b></li>\n",
       "</ul>\n",
       "<p>The meaning of the other entries depend on the interpolation technique selected.\n",
       "In the case of star-function interpolation:</p>\n",
       "<ul>\n",
       "<li>einterp(2): Number of star-functions per ab-initio k-point</li>\n",
       "<li>einterp(3): If non-zero, activate Fourier filtering according to Eq 9 of <b>cite:Uehara2000</b>.\n",
       "    In this case, rcut is given by einterp(2) * Rmax where Rmax is the maximum length of\n",
       "    the lattice vectors included in the star expansion</li>\n",
       "<li>einterp(4): Used if einterp(2) /= 0. It defines rsigma in Eq 9</li>\n",
       "</ul>"
      ],
      "text/plain": [
       "einterp  <Electron bands INTERPolation>"
      ]
     },
     "execution_count": 4,
     "metadata": {},
     "output_type": "execute_result"
    }
   ],
   "source": [
    "abilab.docvar(\"einterp\")"
   ]
  },
  {
   "cell_type": "code",
   "execution_count": 5,
   "metadata": {
    "slideshow": {
     "slide_type": "-"
    }
   },
   "outputs": [],
   "source": [
    "#%embed https://abinit.github.io/abipy/index.html"
   ]
  },
  {
   "cell_type": "markdown",
   "metadata": {
    "slideshow": {
     "slide_type": "slide"
    }
   },
   "source": [
    "## Testing infrastructure\n",
    "\n",
    "* Typos detected at runtime by *mksite.py* (check for WARNINGs in terminal)\n",
    "* Website built by *abiref* bot (*mksite* step)\n",
    "* Linkcheck to detect broken links \n",
    "\n",
    "Still, we need you to make sure the HTML doc looks OK so build the website on your machine before pushing!\n",
    "\n",
    "## Tests to be activated \n",
    "\n",
    "Pull requests won't be accepted if:\n",
    "\n",
    "* New variable is not documented and is not present, at least, in one input file\n",
    "* New executables shall provide documentation \n",
    "\n",
    "## On-going work\n",
    "\n",
    "* Testing whether all the possible values of a variable are tested is possible (esp for scalars) but not trivial"
   ]
  },
  {
   "cell_type": "markdown",
   "metadata": {
    "slideshow": {
     "slide_type": "slide"
    }
   },
   "source": [
    "## What's next?\n",
    "\n",
    "* Migration to Mkdocs > 1.0 and the official plugin-API\n",
    "* Enable search bar in website\n",
    "* Drop support for py2 in abimkdocs\n",
    "* Move more doc from wiki to website (stable doc goes to Mkdocs, wiki is more dynamic  "
   ]
  },
  {
   "cell_type": "markdown",
   "metadata": {
    "slideshow": {
     "slide_type": "slide"
    }
   },
   "source": [
    "## Conclusion\n",
    "\n"
   ]
  }
 ],
 "metadata": {
  "celltoolbar": "Slideshow",
  "kernelspec": {
   "display_name": "Python 3",
   "language": "python",
   "name": "python3"
  },
  "language_info": {
   "codemirror_mode": {
    "name": "ipython",
    "version": 3
   },
   "file_extension": ".py",
   "mimetype": "text/x-python",
   "name": "python",
   "nbconvert_exporter": "python",
   "pygments_lexer": "ipython3",
   "version": "3.6.8"
  },
  "latex_envs": {
   "bibliofile": "biblio.bib",
   "cite_by": "apalike",
   "current_citInitial": 1,
   "eqLabelWithNumbers": true,
   "eqNumInitial": 0
  }
 },
 "nbformat": 4,
 "nbformat_minor": 2
}
