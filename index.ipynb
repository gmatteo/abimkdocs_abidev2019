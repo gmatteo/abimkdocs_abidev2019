{
 "cells": [
  {
   "cell_type": "code",
   "execution_count": 1,
   "metadata": {
    "slideshow": {
     "slide_type": "skip"
    }
   },
   "outputs": [],
   "source": [
    "import os\n",
    "\n",
    "# Ignore numpy warnings\n",
    "import warnings\n",
    "warnings.filterwarnings('ignore')\n",
    "\n",
    "%matplotlib inline\n",
    "#%matplotlib notebook\n",
    "\n",
    "# Use seaborn settings.\n",
    "import seaborn as sns\n",
    "sns.set(\n",
    "        #context=\"paper\",\n",
    "        context=\"talk\",\n",
    "        #context=\"poster\",\n",
    "        style='darkgrid',\n",
    "        #style=\"dark\",\n",
    "        #palette='deep',\n",
    "        font='sans-serif', \n",
    "        #font_scale=1.0, \n",
    "        #color_codes=False, \n",
    "        rc={'figure.figsize': (12, 8.0)}, # width and height in inches.\n",
    ")\n",
    "\n",
    "import IPython\n",
    "\n",
    "def _embed(src, width=\"800\", height=\"400\"):\n",
    "    return IPython.display.IFrame(src=src, width=str(width), height=str(height))\n",
    "\n",
    "from IPython.core.magic import (register_line_magic, register_cell_magic,\n",
    "                                register_line_cell_magic)\n",
    "\n",
    "@register_line_magic\n",
    "def embed(line):\n",
    "    \"my line magic\"\n",
    "    #return line\n",
    "    return _embed(line)\n",
    "\n",
    "\n",
    "# We delete these to avoid name conflicts for automagic to work\n",
    "del embed\n",
    "#del lcmagic\n",
    "\n",
    "# Theme\n",
    "# import jtplot module in notebook\n",
    "#from jupyterthemes import jtplot\n",
    "\n",
    "# choose which theme to inherit plotting style from\n",
    "# onedork | grade3 | oceans16 | chesterish | monokai | solarizedl | solarizedd\n",
    "#jtplot.style(theme='monokai')\n",
    "\n",
    "# set \"context\" (paper, notebook, talk, poster)\n",
    "# scale font-size of ticklabels, legend, etc.\n",
    "# remove spines from x and y axes and make grid dashed\n",
    "#jtplot.style(context='talk', fscale=1.4, spines=False, gridlines='--')\n",
    "\n",
    "# turn on X- and Y-axis tick marks (default=False)\n",
    "# turn off the axis grid lines (default=True)\n",
    "# and set the default figure size\n",
    "#jtplot.style(ticks=True, grid=False, figsize=(6, 4.5))\n",
    "\n",
    "# reset default matplotlib rcParams\n",
    "#jtplot.reset()\n",
    "\n",
    "from abipy import abilab\n",
    "import abipy.data as abidata\n",
    "\n",
    "si_pseudo = os.path.join(abidata.pseudo_dir, \"14si.pspnc\")"
   ]
  },
  {
   "cell_type": "markdown",
   "metadata": {
    "slideshow": {
     "slide_type": "slide"
    }
   },
   "source": [
    "# Automating ABINIT calculations with AbiPy\n",
    "\n",
    "### M. Giantomassi and the AbiPy group\n",
    "\n",
    "Boston MA, 3 March 2019\n",
    "\n",
    "<!-- link rel=\"stylesheet\" href=\"reveal.js/css/theme/sky.css\" id=\"theme\" -->\n",
    "\n",
    "<img src=\"./assets/intro_logos.png\" width=\"85%\" heigh=\"15%\" align=\"center\">\n",
    "\n",
    "<hr> \n",
    "\n",
    "* These slides have been generated using [jupyter](https://jupyter.org), [nbconvert](https://github.com/jupyter/nbconvert) and [revealjs](https://revealjs.com/)\n",
    "\n",
    "* The notebook can be downloaded from this [github repo](https://github.com/gmatteo/abipy_slides_aps_boston_2019)\n",
    "\n",
    "<!--\n",
    "* To install and configure the software, follow these [installation instructions](https://github.com/abinit/abipy#getting-abipy)\n",
    "-->"
   ]
  },
  {
   "cell_type": "markdown",
   "metadata": {
    "slideshow": {
     "slide_type": "slide"
    }
   },
   "source": [
    "## Why a new infrastructure for docs?\n",
    "\n",
    "#### Problems\n",
    "\n",
    "* Technical documentation is very important but nobody loves writing docs\n",
    "* Websites use lot of HTML5/Javascript/CSS4 technology\n",
    "* Abinit developers are more familiar with plain text files and $\\LaTeX$\n",
    "* Users exepct to find an interactive and responsive website \n",
    "\n",
    "#### Solution\n",
    "\n",
    "* Use Markdown for documentation files \n",
    "* Use well-established python frameworks to generate static website from markdown files\n",
    "* Extend the framework with plugins that can reuse all the python code written for the \n",
    "  TestSuite and the database of input variables"
   ]
  },
  {
   "cell_type": "markdown",
   "metadata": {
    "slideshow": {
     "slide_type": "slide"
    }
   },
   "source": [
    "## Software stack (yes, we need libraries)\n",
    "\n",
    "* [Python Markdown](https://github.com/Python-Markdown/markdown)\n",
    "* pygments\n",
    "* pybtex\n",
    "* pymdown-extensions\n",
    "* mkdocs\n",
    "\n",
    "The website is automatically generated with [MkDocs](http://www.mkdocs.org/)\n",
    "a static site generator geared towards project documentation.\n",
    "MkDocs employs [Python-Markdown](https://pypi.python.org/pypi/Markdown) to parse the Markdown documentation\n",
    "and use a single [YAML](http://en.wikipedia.org/wiki/YAML) configuration file (`mkdocs.yml`) \n",
    "defining the organization of the pages on the website.\n",
    "Navigation bars, header and footer are generated *automatically* by the framework\n",
    "using the [jinja template engine](http://jinja.pocoo.org/).\n",
    "Previous versions of the documentation can be consulted using the drop down menu \n",
    "at the top-right corner. (==not yet operational==)\n",
    "\n",
    "MkDocs includes a couple built-in themes as well as various third party themes,\n",
    "all of which can easily be customized with extra CSS or JavaScript or overridden from the theme directory. \n",
    "The Abinit website uses [Mkdocs-Material](http://squidfunk.github.io/mkdocs-material/), a theme\n",
    "built using Google's [Material Design](https://www.google.com/design/spec/material-design) guidelines.\n",
    "We also use [fontawesome icons](https://fontawesome.com/) and\n",
    "[Bootstrap](http://getbootstrap.com/) a popular HTML, CSS, and Javascript framework \n",
    "for developing responsive, mobile first projects on the web \n",
    "(shrink the browser window to see how the menu and the navigation bars react).\n",
    "\n",
    "Note that the majority of the Abinit developers do not need to know how to use these technologies\n",
    "since they will mainly interact with markdown files (plain text files that can be easily modified in the editor)\n",
    "while Mkdocs will handle the HTML/CSS/Javascript part.\n",
    "\n",
    "In addition to the basic markdown syntax, the Abinit documentation supports extensions and shortcuts\n",
    "to ease the writing of hyperlinks and the inclusion of bibliographic citations.\n",
    "A detailed description of *our markdown dialect* is given in [our markdown page](markdown).\n",
    "Also [MathJax](https://www.mathjax.org/) for equations in LaTeX is activated, \n",
    "and the (few) specificities of its usage in the Abinit docs are explained [in this section](markdown.md#mathjax).\n",
    "\n",
    "As a net result, Abinit developers can write nice-looking documentation and release notes without having to use \n",
    "HTML explicitly while working in an environment that is well-integrated with the Abinit ecosystem \n",
    "(the yaml database of input variables, the test suite, bibtex citations).\n",
    "Adding new content is straightforward: write a new page in Markdown, add the new entry to `mkdocs.yml` \n",
    "and finally regenerate the website with MkDocs.\n",
    "\n",
    "Dependencies are listed in *~abinit/requirements.txt*\n",
    "\n",
    "Use:\n",
    "\n",
    "```sh\n",
    "    pip install -r requirements.txt --user\n",
    "```\n",
    "\n",
    "to install the python packages in user mode."
   ]
  },
  {
   "cell_type": "markdown",
   "metadata": {},
   "source": [
    "### How to build to website\n",
    "\n",
    "```\n",
    "cd ~abinit \n",
    "./mksite.py serve --dirtyreload\n",
    "\n",
    "Regenerating database...\n",
    "Saving database to /Users/gmatteo/git_repos/abidocs/doc/tests/test_suite.cpkl\n",
    "Initial website generation completed in 9.17 [s]\n",
    "Generating markdown files with input variables of code: `abinit`...\n",
    "...\n",
    "...\n",
    "INFO    -  Building documentation...\n",
    "INFO    -  Cleaning site directory\n",
    "[I 170826 03:37:05 server:283] Serving on http://127.0.0.1:8000\n",
    "[I 170826 03:37:05 handlers:60] Start watching changes\n",
    "[I 170826 03:37:05 handlers:62] Start detecting changes\n",
    "```\n",
    "\n",
    "Use --dirtyreload\n",
    "\n",
    "Note: Live reloading is not supported in variables, input files. You need to CTRL+C the webserver and restart it."
   ]
  },
  {
   "cell_type": "markdown",
   "metadata": {
    "slideshow": {
     "slide_type": "slide"
    }
   },
   "source": [
    "<img src=\"./assets/mkdocs.jpg\" width=\"55%\" align=\"center\">\n",
    "\n",
    "## What is AbiPy?\n",
    "\n",
    "#### Python package for:\n",
    "\n",
    "   * MkDocs is a Python-based static site generator that combines Markdown content with Jinja2 \n",
    "     templates to produce websites.\n",
    "   * MkDocs' source code is available on GitHub under the BSD 2-clause license.\n",
    "   * Easy configuration via YAML file "
   ]
  },
  {
   "cell_type": "markdown",
   "metadata": {
    "slideshow": {
     "slide_type": "slide"
    }
   },
   "source": [
    "In order to add a new tutorial, create a new Markdown file in doc/tutorial and \n",
    "register it in `mkdocs.yml` \n",
    "Then, build the HTML using `./mksite.py serve\n",
    "\n",
    "\n",
    "\n",
    "### Excerpt of mkdocs.yml\n",
    "\n",
    "```yaml\n",
    "pages:\n",
    "- Tutorial:\n",
    "    - Overview: tutorial/index.md\n",
    "    - Base Tutorials: \n",
    "        - Base1: tutorial/base1.md\n",
    "        - Base2: tutorial/base2.md\n",
    "        - Base3: tutorial/base3.md\n",
    "        - Base4: tutorial/base4.md\n",
    "        - Spin: tutorial/spin.md\n",
    "    - PAW:\n",
    "        - PAW1: tutorial/paw1.md\n",
    "        - PAW2: tutorial/paw2.md\n",
    "        - PAW3: tutorial/paw3.md\n",
    "```\n",
    "\n",
    "### HTML page:\n",
    "\n",
    "<img src=\"./assets/tutorial_yaml_pages.png\" width=\"75%\" align=\"center\">"
   ]
  },
  {
   "cell_type": "markdown",
   "metadata": {},
   "source": [
    "## Markdown and Abinit extensions\n",
    " \n",
    "Most of the documentation is written in [Markdown](https://en.wikipedia.org/wiki/Markdown)\n",
    "a lightweight markup language with plain text \n",
    "[formatting syntax](https://github.com/adam-p/markdown-here/wiki/Markdown-Cheatsheet).\n",
    "The documentation includes the User Guide, the Abinit tutorial, the topics, the release notes\n",
    "as well as the pages with the [input variables](../variables/) and the [bibliographic references](../theory/bibliography.md)\n",
    "that are generated *automatically* in python from the information reported in \n",
    "`~abinit/mkdocs/variables_abinit.py` (and similar files in the same directory for other main executables) and the bibtex \n",
    "entries given in the `~abinit/doc/abiref.bib` file."
   ]
  },
  {
   "cell_type": "markdown",
   "metadata": {},
   "source": [
    "## MathJax integration\n",
    "\n",
    "Formulas written in LaTeX are interpreted automatically (at visualization time) thanks to the\n",
    "[MathJax](http://docs.mathjax.org/en/latest/mathjax.html) on-the-flight processor\n",
    "while the math extension for Python-Markdown is provided by\n",
    "[python-markdown-math](https://github.com/mitya57/python-markdown-math).\n",
    "\n",
    "Latex equations can be used **everywhere** including the description of the variables\n",
    "reported in `abinit_vars.yml` and the description of the tests gives in the `TEST_INFO` section.\n",
    "For the Abinit documentation, the conventions are:\n",
    "\n",
    "* `$...$`  yields an *onlinecite* translation of the LaTeX formula.\n",
    "* `$$...$$` yields *display* mode, the LaTeX formula being rendered on one dedicated line (moreover, centered).\n",
    "* To have the equations numbered, use the display mode above, and (inside the markers) declare your equation\n",
    "  within the standard `\\begin{equation}...\\end{equation}` markers.\n",
    "* When a `$` sign is inside a `#!html <pre>...</pre>` HTML section, MathJax does not interpret it.\n",
    "* Use `\\$` to prevent a real \\$ to be interpreted.\n",
    "\n",
    "\n",
    "### In ~abinit/abinit_theme/main.html:\n",
    "\n",
    "```html\n",
    "    <script type=\"text/javascript\" async \n",
    "        src=\"https://cdnjs.cloudflare.com/ajax/libs/mathjax/2.7.1/MathJax.js?config=TeX-AMS-MML_SVG\">\n",
    "    </script> \n",
    "    <!--\n",
    "    Configure MathJax to produce automatic equation numbers http://docs.mathjax.org/en/latest/tex.html\n",
    "    -->\n",
    "    <script type=\"text/x-mathjax-config\">\n",
    "      MathJax.Hub.Config({\n",
    "        TeX: {\n",
    "            equationNumbers: { autoNumber: \"AMS\" },\n",
    "            extensions: [\"AMSmath.js\"],\n",
    "            Macros: {\n",
    "                GG: \"{\\\\bf G}\",\n",
    "                kk: \"{\\\\bf k}\",\n",
    "                qq: \"{\\\\bf q}\",\n",
    "                kq: \"{\\\\kk + \\\\qq}\",\n",
    "                // PAW\n",
    "                tPsi: \"{\\\\tilde\\\\Psi}\",\n",
    "                tpsi: \"{\\\\tilde\\\\psi}\",\n",
    "                tPhi: \"{\\\\tilde\\\\Phi}\",\n",
    "                tphi: \"{\\\\tilde\\\\phi}\",\n",
    "                tprj: \"{\\\\tilde p}\"\n",
    "            }\n",
    "          }\n",
    "      });\n",
    "    </script>\n",
    "```"
   ]
  },
  {
   "cell_type": "markdown",
   "metadata": {},
   "source": [
    "## Topics\n",
    "\n",
    "The topic files are written in Markdown and can be found in ~abinit/doc/topics.\n",
    "The source files start with an underscore e.g. `_AbiPy.md`.\n",
    "These are **template files** containing the text and two variables:\n",
    "\n",
    "```sh\n",
    "## Related Input Variables\n",
    "{{ related_variables }}\n",
    "\n",
    "## Selected Input Files\n",
    "{{ selected_input_files }}\n",
    "```\n",
    "\n",
    "that will be filled by `./mksite.py` by inspecting the database of variables and the tests of the test suite..\n",
    "A new Markdown file **without underscore** will be generated and included in `mkdocs.yml`.\n",
    "\n",
    "!!! important\n",
    "\n",
    "    Developers are supposed to edit the version with the underscore and provide enough\n",
    "    information in the declaration of the variable and in the `TEST_INFO` section\n",
    "    so that `./mksite.py` can fill the template.\n",
    "    Remember to restart `./mksite.py` to see the changes.\n"
   ]
  },
  {
   "cell_type": "markdown",
   "metadata": {
    "slideshow": {
     "slide_type": "slide"
    }
   },
   "source": [
    "## AbiPy documentation\n",
    "\n",
    "<!--\n",
    "* http://abinit.github.io/abipy/index.html\n",
    "\n",
    "* Jupyter notebooks \n",
    "* Gallery of matplotlib examples and flows\n",
    "* abitutorial github repo with additional examples\n",
    "\n",
    "\n",
    "<img src=\"./assets/abipy_doc_homepage.png\" width=\"100%\" align=\"center\">\n",
    "-->"
   ]
  },
  {
   "cell_type": "code",
   "execution_count": 2,
   "metadata": {
    "slideshow": {
     "slide_type": "-"
    }
   },
   "outputs": [
    {
     "data": {
      "text/html": [
       "\n",
       "        <iframe\n",
       "            width=\"800\"\n",
       "            height=\"400\"\n",
       "            src=\"https://abinit.github.io/abipy/index.html\"\n",
       "            frameborder=\"0\"\n",
       "            allowfullscreen\n",
       "        ></iframe>\n",
       "        "
      ],
      "text/plain": [
       "<IPython.lib.display.IFrame at 0x10d10b2e8>"
      ]
     },
     "execution_count": 2,
     "metadata": {},
     "output_type": "execute_result"
    }
   ],
   "source": [
    "%embed https://abinit.github.io/abipy/index.html"
   ]
  },
  {
   "cell_type": "code",
   "execution_count": null,
   "metadata": {},
   "outputs": [],
   "source": []
  }
 ],
 "metadata": {
  "celltoolbar": "Slideshow",
  "kernelspec": {
   "display_name": "Python 3",
   "language": "python",
   "name": "python3"
  },
  "language_info": {
   "codemirror_mode": {
    "name": "ipython",
    "version": 3
   },
   "file_extension": ".py",
   "mimetype": "text/x-python",
   "name": "python",
   "nbconvert_exporter": "python",
   "pygments_lexer": "ipython3",
   "version": "3.6.8"
  },
  "latex_envs": {
   "bibliofile": "biblio.bib",
   "cite_by": "apalike",
   "current_citInitial": 1,
   "eqLabelWithNumbers": true,
   "eqNumInitial": 0
  }
 },
 "nbformat": 4,
 "nbformat_minor": 2
}
